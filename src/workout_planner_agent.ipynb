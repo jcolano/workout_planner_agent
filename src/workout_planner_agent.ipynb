{
  "cells": [
    {
      "cell_type": "markdown",
      "metadata": {},
      "source": [
        "\"\"\"\n",
        "File: workout_planner_agent\n",
        "\n",
        "Description: \n",
        "\n",
        "This file implements a LangGraph-based agent that utilizes custom workout planner tools to generate personalized fitness plans. Key components include:\n",
        "\n",
        "1. Environment Setup:\n",
        "   - Configures LangChain tracing and project settings\n",
        "   - Manages API keys for OpenAI and LangChain\n",
        "\n",
        "2. Tool Integration:\n",
        "   - Incorporates DuckDuckGoSearchRun, WorkoutPlannerTool, and LlmWorkoutPlannerTool\n",
        "   - Binds tools to a ChatOpenAI model (GPT-4)\n",
        "\n",
        "3. Agent State and Workflow Definition:\n",
        "   - Defines AgentState using TypedDict for managing conversation history\n",
        "   - Creates a StateGraph workflow with agent and action nodes\n",
        "   - Implements logic for conditional edges to determine workflow progression\n",
        "\n",
        "4. Execution Functions:\n",
        "   - run_workflow: Asynchronous function to stream workflow updates\n",
        "   - execute_workflow: Synchronous wrapper for running the workflow\n",
        "   - pretty_print_result: Formats and displays the final workout plan\n",
        "\n",
        "5. LangGraph Integration:\n",
        "   - Utilizes LangGraph components like StateGraph and ToolNode\n",
        "   - Compiles the workflow into an executable application\n",
        "\n",
        "This script orchestrates the entire process of generating a workout plan, from user input to final output, leveraging AI-powered tools and a sophisticated graph-based workflow. It demonstrates the integration of custom tools with language models in a flexible, extensible architecture suitable for complex, multi-step AI tasks.\n",
        "\n",
        "- Author: Juan Olano\n",
        "- Date created: 8/30/2024\n",
        "- Last modified: 8/30/2024\n",
        "\n",
        "This file is part of the Workout Planner Agent project.\n",
        "\n",
        "License: MIT License\n",
        "\n",
        "Copyright (c) {current_year} {your_name}\n",
        "\n",
        "Permission is hereby granted, free of charge, to any person obtaining a copy\n",
        "of this software and associated documentation files (the \"Software\"), to deal\n",
        "in the Software without restriction, including without limitation the rights\n",
        "to use, copy, modify, merge, publish, distribute, sublicense, and/or sell\n",
        "copies of the Software, and to permit persons to whom the Software is\n",
        "furnished to do so, subject to the following conditions:\n",
        "\n",
        "The above copyright notice and this permission notice shall be included in all\n",
        "copies or substantial portions of the Software.\n",
        "\n",
        "THE SOFTWARE IS PROVIDED \"AS IS\", WITHOUT WARRANTY OF ANY KIND, EXPRESS OR\n",
        "IMPLIED, INCLUDING BUT NOT LIMITED TO THE WARRANTIES OF MERCHANTABILITY,\n",
        "FITNESS FOR A PARTICULAR PURPOSE AND NONINFRINGEMENT. IN NO EVENT SHALL THE\n",
        "AUTHORS OR COPYRIGHT HOLDERS BE LIABLE FOR ANY CLAIM, DAMAGES OR OTHER\n",
        "LIABILITY, WHETHER IN AN ACTION OF CONTRACT, TORT OR OTHERWISE, ARISING FROM,\n",
        "OUT OF OR IN CONNECTION WITH THE SOFTWARE OR THE USE OR OTHER DEALINGS IN THE\n",
        "SOFTWARE.\n",
        "\"\"\""
      ]
    },
    {
      "cell_type": "code",
      "execution_count": 11,
      "metadata": {},
      "outputs": [],
      "source": [
        "import os\n",
        "from typing import TypedDict, Annotated\n",
        "from uuid import uuid4\n",
        "\n",
        "from langchain_openai import ChatOpenAI\n",
        "from langchain_community.tools.ddg_search import DuckDuckGoSearchRun\n",
        "from langchain_core.messages import HumanMessage, BaseMessage, AIMessage\n",
        "from langgraph.graph import StateGraph, END\n",
        "from langgraph.prebuilt import ToolNode\n",
        "from langgraph.graph.message import add_messages\n",
        "\n",
        "import asyncio\n",
        "import nest_asyncio\n",
        "nest_asyncio.apply()\n",
        "\n",
        "# Import our custom workout planner tool\n",
        "from workout_planner_tool import WorkoutPlannerTool\n",
        "from workout_planner_llm_based_tool import LlmWorkoutPlannerTool"
      ]
    },
    {
      "cell_type": "code",
      "execution_count": 12,
      "metadata": {},
      "outputs": [],
      "source": [
        "# Setup environment\n",
        "os.environ[\"LANGCHAIN_TRACING_V2\"] = \"true\"\n",
        "os.environ[\"LANGCHAIN_PROJECT\"] = f\"Workout Planner - {uuid4().hex[0:8]}\"\n",
        "\n",
        "\n",
        "import os\n",
        "import openai\n",
        "\n",
        "with open('../../../apikeys/api_openai_aimakerspace.key', 'r') as file:\n",
        "    api_key = file.read().strip()\n",
        "\n",
        "openai.api_key = api_key\n",
        "os.environ[\"OPENAI_API_KEY\"] = openai.api_key\n",
        "\n",
        "import os\n",
        "\n",
        "with open('../../../apikeys/api_langchain.key', 'r') as file:\n",
        "    api_langchain_key = file.read().strip()\n",
        "    \n",
        "os.environ[\"LANGCHAIN_API_KEY\"] = api_langchain_key"
      ]
    },
    {
      "cell_type": "code",
      "execution_count": 13,
      "metadata": {},
      "outputs": [],
      "source": [
        "# Define tools\n",
        "tool_belt = [\n",
        "    DuckDuckGoSearchRun(),\n",
        "    WorkoutPlannerTool,\n",
        "    LlmWorkoutPlannerTool\n",
        "]\n",
        "\n",
        "# Setup model\n",
        "model = ChatOpenAI(model=\"gpt-4\", temperature=0).bind_tools(tool_belt)"
      ]
    },
    {
      "cell_type": "code",
      "execution_count": 14,
      "metadata": {},
      "outputs": [],
      "source": [
        "# Define agent state\n",
        "class AgentState(TypedDict):\n",
        "    messages: Annotated[list[BaseMessage], add_messages]\n",
        "\n",
        "# Define nodes\n",
        "def call_model(state):\n",
        "    messages = state[\"messages\"]\n",
        "    response = model.invoke(messages)\n",
        "    return {\"messages\": [response]}\n",
        "\n",
        "call_tool = ToolNode(tool_belt)"
      ]
    },
    {
      "cell_type": "code",
      "execution_count": 15,
      "metadata": {},
      "outputs": [],
      "source": [
        "# Create workflow\n",
        "workflow = StateGraph(AgentState)\n",
        "workflow.add_node(\"agent\", call_model)\n",
        "workflow.add_node(\"action\", call_tool)\n",
        "workflow.set_entry_point(\"agent\")"
      ]
    },
    {
      "cell_type": "code",
      "execution_count": 16,
      "metadata": {},
      "outputs": [],
      "source": [
        "# Define edge conditions\n",
        "def should_continue(state):\n",
        "    last_message = state[\"messages\"][-1]\n",
        "    if last_message.tool_calls:\n",
        "        return \"action\"\n",
        "    return END\n",
        "\n",
        "workflow.add_conditional_edges(\"agent\", should_continue)\n",
        "workflow.add_edge(\"action\", \"agent\")"
      ]
    },
    {
      "cell_type": "code",
      "execution_count": 17,
      "metadata": {},
      "outputs": [],
      "source": [
        "# Compile the workflow\n",
        "app = workflow.compile()"
      ]
    },
    {
      "cell_type": "code",
      "execution_count": 18,
      "metadata": {},
      "outputs": [],
      "source": [
        "def pretty_print_result(result):\n",
        "    if result and isinstance(result[0], AIMessage):\n",
        "        content = result[0].content\n",
        "        print(\"Workout Plan:\")\n",
        "        print(\"=\" * 80)\n",
        "        print(content)\n",
        "        print(\"=\" * 80)\n",
        "    else:\n",
        "        print(\"No valid result to display.\")"
      ]
    },
    {
      "cell_type": "code",
      "execution_count": 19,
      "metadata": {},
      "outputs": [],
      "source": [
        "# Function to run the workflow\n",
        "async def run_workflow(input_message, view_process=False):\n",
        "    inputs = {\"messages\": [HumanMessage(content=input_message)]}\n",
        "    \n",
        "    last_result = None\n",
        "    \n",
        "    async for chunk in app.astream(inputs, stream_mode=\"updates\"):\n",
        "        for node, values in chunk.items():\n",
        "            if view_process:\n",
        "                print(f\"Receiving update from node: '{node}'\")\n",
        "                if node == \"action\":\n",
        "                    print(f\"Tool Used: {values['messages'][0].name}\")\n",
        "                print(values[\"messages\"])\n",
        "                print(\"\\n\\n\")\n",
        "            \n",
        "            last_result = values[\"messages\"]\n",
        "    \n",
        "    return last_result\n",
        "\n",
        "# Function to execute the workflow\n",
        "def execute_workflow(input_message):\n",
        "    result = asyncio.run(run_workflow(input_message))\n",
        "    pretty_print_result(result)"
      ]
    },
    {
      "cell_type": "code",
      "execution_count": 20,
      "metadata": {},
      "outputs": [
        {
          "name": "stdout",
          "output_type": "stream",
          "text": [
            "Workout Plan:\n",
            "================================================================================\n",
            "Here's your personalized workout plan:\n",
            "\n",
            "**Day 1 - Chest and Triceps**\n",
            "- Push-ups: 4 sets of 15 reps (Rest: 1 min between sets)\n",
            "- Dips: 3 sets of 10 reps (Rest: 1 min between sets)\n",
            "- Diamond push-ups: 3 sets of 12 reps (Rest: 1 min between sets)\n",
            "\n",
            "**Day 2 - Back and Biceps**\n",
            "- Pull-ups: 4 sets of 10 reps (Rest: 2 min between sets)\n",
            "- Chin-ups: 3 sets of 10 reps (Rest: 2 min between sets)\n",
            "\n",
            "**Day 3 - Legs and Glutes**\n",
            "- Squats: 4 sets of 20 reps (Rest: 1 min between sets)\n",
            "- Lunges: 3 sets of 15 reps per leg (Rest: 1 min between sets)\n",
            "- Glute bridges: 3 sets of 15 reps (Rest: 1 min between sets)\n",
            "\n",
            "**Day 4 - Core**\n",
            "- Planks: 3 sets of 1 min hold (Rest: 1 min between sets)\n",
            "- Russian twists: 3 sets of 20 reps (Rest: 1 min between sets)\n",
            "- Leg raises: 3 sets of 15 reps (Rest: 1 min between sets)\n",
            "\n",
            "**Day 5 - Chest and Triceps** (Repeat Day 1)\n",
            "\n",
            "**Day 6 - Back and Biceps** (Repeat Day 2)\n",
            "\n",
            "**Day 7 - Legs and Glutes** (Repeat Day 3)\n",
            "\n",
            "Remember to maintain proper form during all exercises. After 4 weeks, increase the difficulty of your workout by adding more reps or sets, reducing rest times, or switching to more challenging variations of the exercises.\n",
            "\n",
            "Before each workout, warm up with 5 minutes of light cardio followed by dynamic stretches. After each session, cool down with 5 minutes of walking and static stretching.\n",
            "\n",
            "To support muscle recovery and growth, ensure you're getting enough protein in your diet. Aim for a balanced diet with plenty of fruits, vegetables, whole grains, and lean proteins. Stay hydrated and consider a protein shake after your workouts for optimal recovery.\n",
            "\n",
            "Listen to your body, take rest days if needed, and remember that consistency and proper nutrition are key to achieving your muscle gain goals.\n",
            "================================================================================\n"
          ]
        }
      ],
      "source": [
        "# Example usage\n",
        "input_message = \"I'm at the intermediate level, looking to increase muscle mass. Can you create a workout plan for me with only body weight? I can exercise 5 to 7 days a week at home for about 45 minutes each session.\"\n",
        "execute_workflow(input_message)"
      ]
    },
    {
      "cell_type": "code",
      "execution_count": null,
      "metadata": {},
      "outputs": [],
      "source": []
    }
  ],
  "metadata": {
    "colab": {
      "provenance": []
    },
    "kernelspec": {
      "display_name": "Python 3",
      "name": "python3"
    },
    "language_info": {
      "codemirror_mode": {
        "name": "ipython",
        "version": 3
      },
      "file_extension": ".py",
      "mimetype": "text/x-python",
      "name": "python",
      "nbconvert_exporter": "python",
      "pygments_lexer": "ipython3",
      "version": "3.12.4"
    }
  },
  "nbformat": 4,
  "nbformat_minor": 0
}
